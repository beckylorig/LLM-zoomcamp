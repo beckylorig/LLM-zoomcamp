{
 "cells": [
  {
   "cell_type": "code",
   "execution_count": 2,
   "id": "78e4ff4f-d341-49b0-ab3d-d1797e685a9a",
   "metadata": {},
   "outputs": [],
   "source": [
    "from openai import OpenAI"
   ]
  },
  {
   "cell_type": "code",
   "execution_count": 3,
   "id": "566d3600-63f6-4b9a-9dd1-57715bd9870e",
   "metadata": {},
   "outputs": [],
   "source": [
    "client = OpenAI()"
   ]
  },
  {
   "cell_type": "code",
   "execution_count": 4,
   "id": "af9c67dc-a536-48f4-8004-22e3a84390f6",
   "metadata": {},
   "outputs": [],
   "source": [
    "import os"
   ]
  },
  {
   "cell_type": "code",
   "execution_count": 10,
   "id": "128c5a2e-a544-4ed0-9068-a93b4230dbc3",
   "metadata": {},
   "outputs": [],
   "source": [
    "response = client.chat.completions.create(\n",
    "    model='gpt-4o',\n",
    "    messages=[{\"role\":\"user\",\"content\": \"is it too late to join the course?\"}]\n",
    ")"
   ]
  },
  {
   "cell_type": "code",
   "execution_count": 11,
   "id": "9e575c95-131b-4cfe-a99b-ed23949c7437",
   "metadata": {},
   "outputs": [
    {
     "data": {
      "text/plain": [
       "\"I'm not sure which specific course you're referring to, as you haven't provided any details. The timeline for joining a course can vary widely depending on factors like the course start date, enrollment deadlines, and the policies of the institution or organization offering the course. Here are a few general steps you can take to find out:\\n\\n1. **Check the Course Website**: Look for any information regarding enrollment deadlines, start dates, and whether late registration is allowed.\\n\\n2. **Contact the Institution**: If the information isn't clear online, reaching out to the admissions office or the course coordinator directly can give you a definitive answer.\\n\\n3. **Look for Late Enrollment Options**: Some institutions offer late enrollment or have drop/add periods at the start of a term.\\n\\n4. **Consider Waiting Lists**: If a course is full or past its deadline, some institutions offer the option to join a waiting list.\\n\\n5. **Explore Online or Self-Paced Options**: If time is a significant factor, consider whether there are similar courses available online or in a more flexible format.\\n\\nFeel free to provide more details if you have a specific course in mind, and I might be able to give more tailored advice.\""
      ]
     },
     "execution_count": 11,
     "metadata": {},
     "output_type": "execute_result"
    }
   ],
   "source": [
    "response.choices[0].message.content\n"
   ]
  },
  {
   "cell_type": "code",
   "execution_count": null,
   "id": "36ba5103-cd7b-4265-a6e3-42043bf69d61",
   "metadata": {},
   "outputs": [],
   "source": []
  }
 ],
 "metadata": {
  "kernelspec": {
   "display_name": "Python 3 (ipykernel)",
   "language": "python",
   "name": "python3"
  },
  "language_info": {
   "codemirror_mode": {
    "name": "ipython",
    "version": 3
   },
   "file_extension": ".py",
   "mimetype": "text/x-python",
   "name": "python",
   "nbconvert_exporter": "python",
   "pygments_lexer": "ipython3",
   "version": "3.12.1"
  }
 },
 "nbformat": 4,
 "nbformat_minor": 5
}
